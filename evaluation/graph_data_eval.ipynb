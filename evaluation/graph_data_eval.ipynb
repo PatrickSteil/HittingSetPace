{
 "cells": [
  {
   "metadata": {
    "ExecuteTime": {
     "end_time": "2025-04-27T21:02:54.389668Z",
     "start_time": "2025-04-27T21:02:54.386448Z"
    }
   },
   "cell_type": "code",
   "source": [
    "import os\n",
    "import json\n",
    "from itertools import count\n",
    "\n",
    "\n",
    "def read_all_json(folder_path):\n",
    "    json_data = {}\n",
    "\n",
    "    for filename in os.listdir(folder_path):\n",
    "        if filename.endswith(\".json\"):\n",
    "            filepath = os.path.join(folder_path, filename)\n",
    "            with open(filepath, 'r', encoding='utf-8') as f:\n",
    "                try:\n",
    "                    data = json.load(f)\n",
    "                    json_data[filename] = data\n",
    "                except json.JSONDecodeError as e:\n",
    "                    print(f\"⚠️ Failed to parse {filename}: {e}\")\n",
    "\n",
    "    return json_data"
   ],
   "id": "initial_id",
   "outputs": [],
   "execution_count": 1
  },
  {
   "metadata": {
    "ExecuteTime": {
     "end_time": "2025-04-27T21:07:23.278239Z",
     "start_time": "2025-04-27T21:07:23.273155Z"
    }
   },
   "cell_type": "code",
   "source": [
    "import matplotlib.pyplot as plt\n",
    "\n",
    "\n",
    "def plot_degree_distr(json_data):\n",
    "    degree_data = json.loads(json_data[\"degrees\"])\n",
    "    x_vals, y_vals = zip(*degree_data)\n",
    "    plt.bar(x_vals, y_vals)\n",
    "    plt.yscale('log')\n",
    "    plt.xlabel(\"Degree\")\n",
    "    plt.ylabel(\"Frequency\")\n",
    "    plt.title(\"Degree Distribution\")\n",
    "    plt.grid(True)\n",
    "    plt.tight_layout()\n",
    "    plt.show()\n",
    "\n",
    "\n",
    "def plot_centrality_distr(json_data):\n",
    "    centrality_data = json.loads(json_data[\"radii\"])\n",
    "    x_vals, y_vals = zip(*centrality_data)\n",
    "    plt.bar(x_vals, y_vals)\n",
    "    # plt.yscale('log')\n",
    "    plt.xlabel(\"Radius\")\n",
    "    plt.ylabel(\"Frequency\")\n",
    "    plt.title(\"Radius Distribution\")\n",
    "    plt.grid(True)\n",
    "    plt.tight_layout()\n",
    "    plt.show()\n"
   ],
   "id": "273c8cd07d3c141d",
   "outputs": [],
   "execution_count": 15
  },
  {
   "metadata": {
    "ExecuteTime": {
     "end_time": "2025-04-27T21:08:23.969249Z",
     "start_time": "2025-04-27T21:08:23.792975Z"
    }
   },
   "cell_type": "code",
   "source": [
    "\n",
    "instances = [v for v in read_all_json(\"../output/\").values()]\n",
    "print(list(map(lambda inst: inst['name'], (filter(lambda inst: inst[\"#CCs\"] > 1, instances)))))\n",
    "instance = instances[99]\n",
    "\n",
    "plot_degree_distr(instance)\n"
   ],
   "id": "7aa9dda3896a11ed",
   "outputs": [
    {
     "name": "stdout",
     "output_type": "stream",
     "text": [
      "['exact_065.gr', 'exact_092.gr', 'exact_074.gr', 'exact_040.gr', 'exact_062.gr', 'exact_017.gr', 'exact_081.gr', 'exact_059.gr', 'exact_022.gr', 'exact_039.gr', 'exact_071.gr', 'exact_094.gr', 'exact_083.gr', 'exact_030.gr', 'exact_068.gr', 'exact_091.gr', 'exact_077.gr', 'exact_051.gr', 'exact_080.gr', 'exact_090.gr', 'exact_021.gr', 'exact_037.gr', 'exact_069.gr', 'exact_044.gr', 'exact_056.gr', 'exact_032.gr', 'exact_098.gr', 'exact_018.gr', 'exact_028.gr', 'exact_064.gr', 'exact_042.gr', 'exact_026.gr', 'exact_045.gr', 'exact_067.gr', 'exact_027.gr', 'exact_043.gr', 'exact_033.gr', 'exact_055.gr', 'exact_041.gr', 'exact_034.gr', 'exact_020.gr', 'exact_025.gr', 'exact_029.gr', 'exact_070.gr', 'exact_052.gr', 'exact_082.gr', 'exact_058.gr', 'exact_023.gr', 'exact_038.gr', 'exact_019.gr', 'exact_031.gr', 'exact_100.gr', 'exact_076.gr', 'exact_036.gr']\n"
     ]
    },
    {
     "data": {
      "text/plain": [
       "<Figure size 640x480 with 1 Axes>"
      ],
      "image/png": "[encoded data removed]"
     },
     "metadata": {},
     "output_type": "display_data"
    }
   ],
   "execution_count": 17
  }
 ],
 "metadata": {
  "kernelspec": {
   "display_name": "Python 3",
   "language": "python",
   "name": "python3"
  },
  "language_info": {
   "codemirror_mode": {
    "name": "ipython",
    "version": 2
   },
   "file_extension": ".py",
   "mimetype": "text/x-python",
   "name": "python",
   "nbconvert_exporter": "python",
   "pygments_lexer": "ipython2",
   "version": "2.7.6"
  }
 },
 "nbformat": 4,
 "nbformat_minor": 5
}
